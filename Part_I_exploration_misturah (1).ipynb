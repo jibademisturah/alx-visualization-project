{
 "cells": [
  {
   "cell_type": "markdown",
   "metadata": {},
   "source": [
    "# Part I - Ford GoBike System Data Exploration\n",
    "## by Misturah Ajibade\n",
    "\n",
    "## Introduction\n",
    "> This data set includes information about individual rides made in a bike-sharing system covering the greater San Francisco Bay area in February 2019.\n",
    "\n",
    "## Preliminary Wrangling\n"
   ]
  },
  {
   "cell_type": "code",
   "execution_count": 138,
   "metadata": {},
   "outputs": [],
   "source": [
    "# import all packages and set plots to be embedded inline\n",
    "import numpy as np\n",
    "import pandas as pd\n",
    "import matplotlib.pyplot as plt\n",
    "import seaborn as sb\n",
    "\n",
    "%matplotlib inline"
   ]
  },
  {
   "cell_type": "code",
   "execution_count": 139,
   "metadata": {},
   "outputs": [],
   "source": [
    "#Importing the dataset\n",
    "df = pd.read_csv(r'C:\\Users\\USER\\Desktop\\201902-fordgobike-tripdata.csv')"
   ]
  },
  {
   "cell_type": "code",
   "execution_count": 140,
   "metadata": {},
   "outputs": [
    {
     "data": {
      "text/html": [
       "<div>\n",
       "<style scoped>\n",
       "    .dataframe tbody tr th:only-of-type {\n",
       "        vertical-align: middle;\n",
       "    }\n",
       "\n",
       "    .dataframe tbody tr th {\n",
       "        vertical-align: top;\n",
       "    }\n",
       "\n",
       "    .dataframe thead th {\n",
       "        text-align: right;\n",
       "    }\n",
       "</style>\n",
       "<table border=\"1\" class=\"dataframe\">\n",
       "  <thead>\n",
       "    <tr style=\"text-align: right;\">\n",
       "      <th></th>\n",
       "      <th>duration_sec</th>\n",
       "      <th>start_time</th>\n",
       "      <th>end_time</th>\n",
       "      <th>start_station_id</th>\n",
       "      <th>start_station_name</th>\n",
       "      <th>start_station_latitude</th>\n",
       "      <th>start_station_longitude</th>\n",
       "      <th>end_station_id</th>\n",
       "      <th>end_station_name</th>\n",
       "      <th>end_station_latitude</th>\n",
       "      <th>end_station_longitude</th>\n",
       "      <th>bike_id</th>\n",
       "      <th>user_type</th>\n",
       "      <th>member_birth_year</th>\n",
       "      <th>member_gender</th>\n",
       "      <th>bike_share_for_all_trip</th>\n",
       "    </tr>\n",
       "  </thead>\n",
       "  <tbody>\n",
       "    <tr>\n",
       "      <th>0</th>\n",
       "      <td>52185</td>\n",
       "      <td>2019-02-28 17:32:10.1450</td>\n",
       "      <td>2019-03-01 08:01:55.9750</td>\n",
       "      <td>21.0</td>\n",
       "      <td>Montgomery St BART Station (Market St at 2nd St)</td>\n",
       "      <td>37.789625</td>\n",
       "      <td>-122.400811</td>\n",
       "      <td>13.0</td>\n",
       "      <td>Commercial St at Montgomery St</td>\n",
       "      <td>37.794231</td>\n",
       "      <td>-122.402923</td>\n",
       "      <td>4902</td>\n",
       "      <td>Customer</td>\n",
       "      <td>1984.0</td>\n",
       "      <td>Male</td>\n",
       "      <td>No</td>\n",
       "    </tr>\n",
       "    <tr>\n",
       "      <th>1</th>\n",
       "      <td>42521</td>\n",
       "      <td>2019-02-28 18:53:21.7890</td>\n",
       "      <td>2019-03-01 06:42:03.0560</td>\n",
       "      <td>23.0</td>\n",
       "      <td>The Embarcadero at Steuart St</td>\n",
       "      <td>37.791464</td>\n",
       "      <td>-122.391034</td>\n",
       "      <td>81.0</td>\n",
       "      <td>Berry St at 4th St</td>\n",
       "      <td>37.775880</td>\n",
       "      <td>-122.393170</td>\n",
       "      <td>2535</td>\n",
       "      <td>Customer</td>\n",
       "      <td>NaN</td>\n",
       "      <td>NaN</td>\n",
       "      <td>No</td>\n",
       "    </tr>\n",
       "    <tr>\n",
       "      <th>2</th>\n",
       "      <td>61854</td>\n",
       "      <td>2019-02-28 12:13:13.2180</td>\n",
       "      <td>2019-03-01 05:24:08.1460</td>\n",
       "      <td>86.0</td>\n",
       "      <td>Market St at Dolores St</td>\n",
       "      <td>37.769305</td>\n",
       "      <td>-122.426826</td>\n",
       "      <td>3.0</td>\n",
       "      <td>Powell St BART Station (Market St at 4th St)</td>\n",
       "      <td>37.786375</td>\n",
       "      <td>-122.404904</td>\n",
       "      <td>5905</td>\n",
       "      <td>Customer</td>\n",
       "      <td>1972.0</td>\n",
       "      <td>Male</td>\n",
       "      <td>No</td>\n",
       "    </tr>\n",
       "    <tr>\n",
       "      <th>3</th>\n",
       "      <td>36490</td>\n",
       "      <td>2019-02-28 17:54:26.0100</td>\n",
       "      <td>2019-03-01 04:02:36.8420</td>\n",
       "      <td>375.0</td>\n",
       "      <td>Grove St at Masonic Ave</td>\n",
       "      <td>37.774836</td>\n",
       "      <td>-122.446546</td>\n",
       "      <td>70.0</td>\n",
       "      <td>Central Ave at Fell St</td>\n",
       "      <td>37.773311</td>\n",
       "      <td>-122.444293</td>\n",
       "      <td>6638</td>\n",
       "      <td>Subscriber</td>\n",
       "      <td>1989.0</td>\n",
       "      <td>Other</td>\n",
       "      <td>No</td>\n",
       "    </tr>\n",
       "    <tr>\n",
       "      <th>4</th>\n",
       "      <td>1585</td>\n",
       "      <td>2019-02-28 23:54:18.5490</td>\n",
       "      <td>2019-03-01 00:20:44.0740</td>\n",
       "      <td>7.0</td>\n",
       "      <td>Frank H Ogawa Plaza</td>\n",
       "      <td>37.804562</td>\n",
       "      <td>-122.271738</td>\n",
       "      <td>222.0</td>\n",
       "      <td>10th Ave at E 15th St</td>\n",
       "      <td>37.792714</td>\n",
       "      <td>-122.248780</td>\n",
       "      <td>4898</td>\n",
       "      <td>Subscriber</td>\n",
       "      <td>1974.0</td>\n",
       "      <td>Male</td>\n",
       "      <td>Yes</td>\n",
       "    </tr>\n",
       "  </tbody>\n",
       "</table>\n",
       "</div>"
      ],
      "text/plain": [
       "   duration_sec                start_time                  end_time  \\\n",
       "0         52185  2019-02-28 17:32:10.1450  2019-03-01 08:01:55.9750   \n",
       "1         42521  2019-02-28 18:53:21.7890  2019-03-01 06:42:03.0560   \n",
       "2         61854  2019-02-28 12:13:13.2180  2019-03-01 05:24:08.1460   \n",
       "3         36490  2019-02-28 17:54:26.0100  2019-03-01 04:02:36.8420   \n",
       "4          1585  2019-02-28 23:54:18.5490  2019-03-01 00:20:44.0740   \n",
       "\n",
       "   start_station_id                                start_station_name  \\\n",
       "0              21.0  Montgomery St BART Station (Market St at 2nd St)   \n",
       "1              23.0                     The Embarcadero at Steuart St   \n",
       "2              86.0                           Market St at Dolores St   \n",
       "3             375.0                           Grove St at Masonic Ave   \n",
       "4               7.0                               Frank H Ogawa Plaza   \n",
       "\n",
       "   start_station_latitude  start_station_longitude  end_station_id  \\\n",
       "0               37.789625              -122.400811            13.0   \n",
       "1               37.791464              -122.391034            81.0   \n",
       "2               37.769305              -122.426826             3.0   \n",
       "3               37.774836              -122.446546            70.0   \n",
       "4               37.804562              -122.271738           222.0   \n",
       "\n",
       "                               end_station_name  end_station_latitude  \\\n",
       "0                Commercial St at Montgomery St             37.794231   \n",
       "1                            Berry St at 4th St             37.775880   \n",
       "2  Powell St BART Station (Market St at 4th St)             37.786375   \n",
       "3                        Central Ave at Fell St             37.773311   \n",
       "4                         10th Ave at E 15th St             37.792714   \n",
       "\n",
       "   end_station_longitude  bike_id   user_type  member_birth_year  \\\n",
       "0            -122.402923     4902    Customer             1984.0   \n",
       "1            -122.393170     2535    Customer                NaN   \n",
       "2            -122.404904     5905    Customer             1972.0   \n",
       "3            -122.444293     6638  Subscriber             1989.0   \n",
       "4            -122.248780     4898  Subscriber             1974.0   \n",
       "\n",
       "  member_gender bike_share_for_all_trip  \n",
       "0          Male                      No  \n",
       "1           NaN                      No  \n",
       "2          Male                      No  \n",
       "3         Other                      No  \n",
       "4          Male                     Yes  "
      ]
     },
     "execution_count": 140,
     "metadata": {},
     "output_type": "execute_result"
    }
   ],
   "source": [
    "#Viewing the first 5 rows\n",
    "\n",
    "df.head()"
   ]
  },
  {
   "cell_type": "code",
   "execution_count": 141,
   "metadata": {
    "scrolled": true
   },
   "outputs": [
    {
     "data": {
      "text/html": [
       "<div>\n",
       "<style scoped>\n",
       "    .dataframe tbody tr th:only-of-type {\n",
       "        vertical-align: middle;\n",
       "    }\n",
       "\n",
       "    .dataframe tbody tr th {\n",
       "        vertical-align: top;\n",
       "    }\n",
       "\n",
       "    .dataframe thead th {\n",
       "        text-align: right;\n",
       "    }\n",
       "</style>\n",
       "<table border=\"1\" class=\"dataframe\">\n",
       "  <thead>\n",
       "    <tr style=\"text-align: right;\">\n",
       "      <th></th>\n",
       "      <th>duration_sec</th>\n",
       "      <th>start_time</th>\n",
       "      <th>end_time</th>\n",
       "      <th>start_station_id</th>\n",
       "      <th>start_station_name</th>\n",
       "      <th>start_station_latitude</th>\n",
       "      <th>start_station_longitude</th>\n",
       "      <th>end_station_id</th>\n",
       "      <th>end_station_name</th>\n",
       "      <th>end_station_latitude</th>\n",
       "      <th>end_station_longitude</th>\n",
       "      <th>bike_id</th>\n",
       "      <th>user_type</th>\n",
       "      <th>member_birth_year</th>\n",
       "      <th>member_gender</th>\n",
       "      <th>bike_share_for_all_trip</th>\n",
       "    </tr>\n",
       "  </thead>\n",
       "  <tbody>\n",
       "    <tr>\n",
       "      <th>82650</th>\n",
       "      <td>562</td>\n",
       "      <td>2019-02-18 09:29:30.0080</td>\n",
       "      <td>2019-02-18 09:38:52.7310</td>\n",
       "      <td>77.0</td>\n",
       "      <td>11th St at Natoma St</td>\n",
       "      <td>37.773507</td>\n",
       "      <td>-122.416040</td>\n",
       "      <td>20.0</td>\n",
       "      <td>Mechanics Monument Plaza (Market St at Bush St)</td>\n",
       "      <td>37.791300</td>\n",
       "      <td>-122.399051</td>\n",
       "      <td>5218</td>\n",
       "      <td>Subscriber</td>\n",
       "      <td>1978.0</td>\n",
       "      <td>Male</td>\n",
       "      <td>No</td>\n",
       "    </tr>\n",
       "    <tr>\n",
       "      <th>70814</th>\n",
       "      <td>558</td>\n",
       "      <td>2019-02-19 17:56:33.0400</td>\n",
       "      <td>2019-02-19 18:05:51.0690</td>\n",
       "      <td>22.0</td>\n",
       "      <td>Howard St at Beale St</td>\n",
       "      <td>37.789756</td>\n",
       "      <td>-122.394643</td>\n",
       "      <td>60.0</td>\n",
       "      <td>8th St at Ringold St</td>\n",
       "      <td>37.774520</td>\n",
       "      <td>-122.409449</td>\n",
       "      <td>4767</td>\n",
       "      <td>Subscriber</td>\n",
       "      <td>1992.0</td>\n",
       "      <td>Male</td>\n",
       "      <td>No</td>\n",
       "    </tr>\n",
       "    <tr>\n",
       "      <th>20183</th>\n",
       "      <td>351</td>\n",
       "      <td>2019-02-26 13:50:40.3770</td>\n",
       "      <td>2019-02-26 13:56:32.0040</td>\n",
       "      <td>5.0</td>\n",
       "      <td>Powell St BART Station (Market St at 5th St)</td>\n",
       "      <td>37.783899</td>\n",
       "      <td>-122.408445</td>\n",
       "      <td>62.0</td>\n",
       "      <td>Victoria Manalo Draves Park</td>\n",
       "      <td>37.777791</td>\n",
       "      <td>-122.406432</td>\n",
       "      <td>6588</td>\n",
       "      <td>Subscriber</td>\n",
       "      <td>1994.0</td>\n",
       "      <td>Male</td>\n",
       "      <td>No</td>\n",
       "    </tr>\n",
       "    <tr>\n",
       "      <th>73411</th>\n",
       "      <td>355</td>\n",
       "      <td>2019-02-19 13:54:15.1990</td>\n",
       "      <td>2019-02-19 14:00:11.0510</td>\n",
       "      <td>129.0</td>\n",
       "      <td>Harrison St at 20th St</td>\n",
       "      <td>37.758862</td>\n",
       "      <td>-122.412544</td>\n",
       "      <td>98.0</td>\n",
       "      <td>Valencia St at 16th St</td>\n",
       "      <td>37.765052</td>\n",
       "      <td>-122.421866</td>\n",
       "      <td>5849</td>\n",
       "      <td>Subscriber</td>\n",
       "      <td>1980.0</td>\n",
       "      <td>Male</td>\n",
       "      <td>No</td>\n",
       "    </tr>\n",
       "    <tr>\n",
       "      <th>121500</th>\n",
       "      <td>329</td>\n",
       "      <td>2019-02-11 15:06:39.4990</td>\n",
       "      <td>2019-02-11 15:12:09.1200</td>\n",
       "      <td>256.0</td>\n",
       "      <td>Hearst Ave at Euclid Ave</td>\n",
       "      <td>37.875112</td>\n",
       "      <td>-122.260553</td>\n",
       "      <td>258.0</td>\n",
       "      <td>University Ave at Oxford St</td>\n",
       "      <td>37.872355</td>\n",
       "      <td>-122.266447</td>\n",
       "      <td>4506</td>\n",
       "      <td>Subscriber</td>\n",
       "      <td>2000.0</td>\n",
       "      <td>Female</td>\n",
       "      <td>Yes</td>\n",
       "    </tr>\n",
       "    <tr>\n",
       "      <th>38149</th>\n",
       "      <td>117</td>\n",
       "      <td>2019-02-23 12:42:21.5720</td>\n",
       "      <td>2019-02-23 12:44:19.2170</td>\n",
       "      <td>116.0</td>\n",
       "      <td>Mississippi St at 17th St</td>\n",
       "      <td>37.764802</td>\n",
       "      <td>-122.394771</td>\n",
       "      <td>104.0</td>\n",
       "      <td>4th St at 16th St</td>\n",
       "      <td>37.767045</td>\n",
       "      <td>-122.390833</td>\n",
       "      <td>6133</td>\n",
       "      <td>Subscriber</td>\n",
       "      <td>1978.0</td>\n",
       "      <td>Male</td>\n",
       "      <td>No</td>\n",
       "    </tr>\n",
       "    <tr>\n",
       "      <th>20276</th>\n",
       "      <td>471</td>\n",
       "      <td>2019-02-26 13:22:59.2570</td>\n",
       "      <td>2019-02-26 13:30:50.5190</td>\n",
       "      <td>299.0</td>\n",
       "      <td>Bestor Art Park</td>\n",
       "      <td>37.323678</td>\n",
       "      <td>-121.874119</td>\n",
       "      <td>310.0</td>\n",
       "      <td>San Fernando St at 4th St</td>\n",
       "      <td>37.335885</td>\n",
       "      <td>-121.885660</td>\n",
       "      <td>421</td>\n",
       "      <td>Subscriber</td>\n",
       "      <td>1986.0</td>\n",
       "      <td>Male</td>\n",
       "      <td>Yes</td>\n",
       "    </tr>\n",
       "  </tbody>\n",
       "</table>\n",
       "</div>"
      ],
      "text/plain": [
       "        duration_sec                start_time                  end_time  \\\n",
       "82650            562  2019-02-18 09:29:30.0080  2019-02-18 09:38:52.7310   \n",
       "70814            558  2019-02-19 17:56:33.0400  2019-02-19 18:05:51.0690   \n",
       "20183            351  2019-02-26 13:50:40.3770  2019-02-26 13:56:32.0040   \n",
       "73411            355  2019-02-19 13:54:15.1990  2019-02-19 14:00:11.0510   \n",
       "121500           329  2019-02-11 15:06:39.4990  2019-02-11 15:12:09.1200   \n",
       "38149            117  2019-02-23 12:42:21.5720  2019-02-23 12:44:19.2170   \n",
       "20276            471  2019-02-26 13:22:59.2570  2019-02-26 13:30:50.5190   \n",
       "\n",
       "        start_station_id                            start_station_name  \\\n",
       "82650               77.0                          11th St at Natoma St   \n",
       "70814               22.0                         Howard St at Beale St   \n",
       "20183                5.0  Powell St BART Station (Market St at 5th St)   \n",
       "73411              129.0                        Harrison St at 20th St   \n",
       "121500             256.0                      Hearst Ave at Euclid Ave   \n",
       "38149              116.0                     Mississippi St at 17th St   \n",
       "20276              299.0                               Bestor Art Park   \n",
       "\n",
       "        start_station_latitude  start_station_longitude  end_station_id  \\\n",
       "82650                37.773507              -122.416040            20.0   \n",
       "70814                37.789756              -122.394643            60.0   \n",
       "20183                37.783899              -122.408445            62.0   \n",
       "73411                37.758862              -122.412544            98.0   \n",
       "121500               37.875112              -122.260553           258.0   \n",
       "38149                37.764802              -122.394771           104.0   \n",
       "20276                37.323678              -121.874119           310.0   \n",
       "\n",
       "                                       end_station_name  end_station_latitude  \\\n",
       "82650   Mechanics Monument Plaza (Market St at Bush St)             37.791300   \n",
       "70814                              8th St at Ringold St             37.774520   \n",
       "20183                       Victoria Manalo Draves Park             37.777791   \n",
       "73411                            Valencia St at 16th St             37.765052   \n",
       "121500                      University Ave at Oxford St             37.872355   \n",
       "38149                                 4th St at 16th St             37.767045   \n",
       "20276                         San Fernando St at 4th St             37.335885   \n",
       "\n",
       "        end_station_longitude  bike_id   user_type  member_birth_year  \\\n",
       "82650             -122.399051     5218  Subscriber             1978.0   \n",
       "70814             -122.409449     4767  Subscriber             1992.0   \n",
       "20183             -122.406432     6588  Subscriber             1994.0   \n",
       "73411             -122.421866     5849  Subscriber             1980.0   \n",
       "121500            -122.266447     4506  Subscriber             2000.0   \n",
       "38149             -122.390833     6133  Subscriber             1978.0   \n",
       "20276             -121.885660      421  Subscriber             1986.0   \n",
       "\n",
       "       member_gender bike_share_for_all_trip  \n",
       "82650           Male                      No  \n",
       "70814           Male                      No  \n",
       "20183           Male                      No  \n",
       "73411           Male                      No  \n",
       "121500        Female                     Yes  \n",
       "38149           Male                      No  \n",
       "20276           Male                     Yes  "
      ]
     },
     "execution_count": 141,
     "metadata": {},
     "output_type": "execute_result"
    }
   ],
   "source": [
    "#Viewing a sample \n",
    "\n",
    "df.sample(7)"
   ]
  },
  {
   "cell_type": "code",
   "execution_count": 142,
   "metadata": {},
   "outputs": [
    {
     "name": "stdout",
     "output_type": "stream",
     "text": [
      "<class 'pandas.core.frame.DataFrame'>\n",
      "RangeIndex: 183412 entries, 0 to 183411\n",
      "Data columns (total 16 columns):\n",
      " #   Column                   Non-Null Count   Dtype  \n",
      "---  ------                   --------------   -----  \n",
      " 0   duration_sec             183412 non-null  int64  \n",
      " 1   start_time               183412 non-null  object \n",
      " 2   end_time                 183412 non-null  object \n",
      " 3   start_station_id         183215 non-null  float64\n",
      " 4   start_station_name       183215 non-null  object \n",
      " 5   start_station_latitude   183412 non-null  float64\n",
      " 6   start_station_longitude  183412 non-null  float64\n",
      " 7   end_station_id           183215 non-null  float64\n",
      " 8   end_station_name         183215 non-null  object \n",
      " 9   end_station_latitude     183412 non-null  float64\n",
      " 10  end_station_longitude    183412 non-null  float64\n",
      " 11  bike_id                  183412 non-null  int64  \n",
      " 12  user_type                183412 non-null  object \n",
      " 13  member_birth_year        175147 non-null  float64\n",
      " 14  member_gender            175147 non-null  object \n",
      " 15  bike_share_for_all_trip  183412 non-null  object \n",
      "dtypes: float64(7), int64(2), object(7)\n",
      "memory usage: 22.4+ MB\n"
     ]
    }
   ],
   "source": [
    "#Viewing the data summary\n",
    "\n",
    "df.info()"
   ]
  },
  {
   "cell_type": "code",
   "execution_count": 143,
   "metadata": {},
   "outputs": [],
   "source": [
    "#creating a copy for the dataset\n",
    "df_copy = df.copy()"
   ]
  },
  {
   "cell_type": "code",
   "execution_count": 144,
   "metadata": {},
   "outputs": [],
   "source": [
    "#changing data type of start_time and end_time to datetime\n",
    "df_copy['start_time'] = pd.to_datetime(df_copy['start_time'])\n",
    "df_copy['end_time'] = pd.to_datetime(df_copy['end_time'])"
   ]
  },
  {
   "cell_type": "code",
   "execution_count": 145,
   "metadata": {},
   "outputs": [
    {
     "name": "stdout",
     "output_type": "stream",
     "text": [
      "<class 'pandas.core.frame.DataFrame'>\n",
      "RangeIndex: 183412 entries, 0 to 183411\n",
      "Data columns (total 16 columns):\n",
      " #   Column                   Non-Null Count   Dtype         \n",
      "---  ------                   --------------   -----         \n",
      " 0   duration_sec             183412 non-null  int64         \n",
      " 1   start_time               183412 non-null  datetime64[ns]\n",
      " 2   end_time                 183412 non-null  datetime64[ns]\n",
      " 3   start_station_id         183215 non-null  float64       \n",
      " 4   start_station_name       183215 non-null  object        \n",
      " 5   start_station_latitude   183412 non-null  float64       \n",
      " 6   start_station_longitude  183412 non-null  float64       \n",
      " 7   end_station_id           183215 non-null  float64       \n",
      " 8   end_station_name         183215 non-null  object        \n",
      " 9   end_station_latitude     183412 non-null  float64       \n",
      " 10  end_station_longitude    183412 non-null  float64       \n",
      " 11  bike_id                  183412 non-null  int64         \n",
      " 12  user_type                183412 non-null  object        \n",
      " 13  member_birth_year        175147 non-null  float64       \n",
      " 14  member_gender            175147 non-null  object        \n",
      " 15  bike_share_for_all_trip  183412 non-null  object        \n",
      "dtypes: datetime64[ns](2), float64(7), int64(2), object(5)\n",
      "memory usage: 22.4+ MB\n"
     ]
    }
   ],
   "source": [
    "df_copy.info()"
   ]
  },
  {
   "cell_type": "code",
   "execution_count": 146,
   "metadata": {},
   "outputs": [],
   "source": [
    "#Converting end_station_id, bike_id and start_station_id into strings\n",
    "\n",
    "df_copy['end_station_id'] = df_copy['end_station_id'].astype(str)\n",
    "df_copy['bike_id'] = df_copy['bike_id'].astype(str)\n",
    "df_copy['start_station_id'] = df_copy['start_station_id'].astype(str)"
   ]
  },
  {
   "cell_type": "code",
   "execution_count": 147,
   "metadata": {},
   "outputs": [
    {
     "name": "stdout",
     "output_type": "stream",
     "text": [
      "<class 'pandas.core.frame.DataFrame'>\n",
      "RangeIndex: 183412 entries, 0 to 183411\n",
      "Data columns (total 16 columns):\n",
      " #   Column                   Non-Null Count   Dtype         \n",
      "---  ------                   --------------   -----         \n",
      " 0   duration_sec             183412 non-null  int64         \n",
      " 1   start_time               183412 non-null  datetime64[ns]\n",
      " 2   end_time                 183412 non-null  datetime64[ns]\n",
      " 3   start_station_id         183412 non-null  object        \n",
      " 4   start_station_name       183215 non-null  object        \n",
      " 5   start_station_latitude   183412 non-null  float64       \n",
      " 6   start_station_longitude  183412 non-null  float64       \n",
      " 7   end_station_id           183412 non-null  object        \n",
      " 8   end_station_name         183215 non-null  object        \n",
      " 9   end_station_latitude     183412 non-null  float64       \n",
      " 10  end_station_longitude    183412 non-null  float64       \n",
      " 11  bike_id                  183412 non-null  object        \n",
      " 12  user_type                183412 non-null  object        \n",
      " 13  member_birth_year        175147 non-null  float64       \n",
      " 14  member_gender            175147 non-null  object        \n",
      " 15  bike_share_for_all_trip  183412 non-null  object        \n",
      "dtypes: datetime64[ns](2), float64(5), int64(1), object(8)\n",
      "memory usage: 22.4+ MB\n"
     ]
    }
   ],
   "source": [
    "df_copy.info()"
   ]
  },
  {
   "cell_type": "code",
   "execution_count": 148,
   "metadata": {},
   "outputs": [
    {
     "data": {
      "text/plain": [
       "Index(['duration_sec', 'start_time', 'end_time', 'start_station_id',\n",
       "       'start_station_name', 'start_station_latitude',\n",
       "       'start_station_longitude', 'end_station_id', 'end_station_name',\n",
       "       'end_station_latitude', 'end_station_longitude', 'bike_id', 'user_type',\n",
       "       'member_birth_year', 'member_gender', 'bike_share_for_all_trip'],\n",
       "      dtype='object')"
      ]
     },
     "execution_count": 148,
     "metadata": {},
     "output_type": "execute_result"
    }
   ],
   "source": [
    "df_copy.columns"
   ]
  },
  {
   "cell_type": "code",
   "execution_count": 149,
   "metadata": {},
   "outputs": [
    {
     "data": {
      "text/plain": [
       "(183412, 16)"
      ]
     },
     "execution_count": 149,
     "metadata": {},
     "output_type": "execute_result"
    }
   ],
   "source": [
    "df_copy.shape"
   ]
  },
  {
   "cell_type": "code",
   "execution_count": 150,
   "metadata": {},
   "outputs": [],
   "source": [
    "#dropping all na in the dataset\n",
    "\n",
    "df_copy.dropna(inplace = True)"
   ]
  },
  {
   "cell_type": "code",
   "execution_count": 151,
   "metadata": {},
   "outputs": [
    {
     "name": "stdout",
     "output_type": "stream",
     "text": [
      "<class 'pandas.core.frame.DataFrame'>\n",
      "Int64Index: 174952 entries, 0 to 183411\n",
      "Data columns (total 16 columns):\n",
      " #   Column                   Non-Null Count   Dtype         \n",
      "---  ------                   --------------   -----         \n",
      " 0   duration_sec             174952 non-null  int64         \n",
      " 1   start_time               174952 non-null  datetime64[ns]\n",
      " 2   end_time                 174952 non-null  datetime64[ns]\n",
      " 3   start_station_id         174952 non-null  object        \n",
      " 4   start_station_name       174952 non-null  object        \n",
      " 5   start_station_latitude   174952 non-null  float64       \n",
      " 6   start_station_longitude  174952 non-null  float64       \n",
      " 7   end_station_id           174952 non-null  object        \n",
      " 8   end_station_name         174952 non-null  object        \n",
      " 9   end_station_latitude     174952 non-null  float64       \n",
      " 10  end_station_longitude    174952 non-null  float64       \n",
      " 11  bike_id                  174952 non-null  object        \n",
      " 12  user_type                174952 non-null  object        \n",
      " 13  member_birth_year        174952 non-null  float64       \n",
      " 14  member_gender            174952 non-null  object        \n",
      " 15  bike_share_for_all_trip  174952 non-null  object        \n",
      "dtypes: datetime64[ns](2), float64(5), int64(1), object(8)\n",
      "memory usage: 22.7+ MB\n"
     ]
    }
   ],
   "source": [
    "df_copy.info()"
   ]
  },
  {
   "cell_type": "markdown",
   "metadata": {},
   "source": [
    "### What is the structure of your dataset?\n",
    "\n",
    "> There are 183412 trips and 16 columns in the dataset with information such as duration of the ride in seconds, start and end station names, logitude and latitude as well as information on users.\n",
    "\n",
    "### What is/are the main feature(s) of interest in your dataset?\n",
    "\n",
    "> The trip duration and factors that influences it\n",
    "\n",
    "### What features in the dataset do you think will help support your investigation into your feature(s) of interest?\n",
    "\n",
    "> The loation of start and end stations, user type and gender should influnce trip duration."
   ]
  },
  {
   "cell_type": "markdown",
   "metadata": {},
   "source": [
    "## Univariate Exploration"
   ]
  },
  {
   "cell_type": "code",
   "execution_count": 152,
   "metadata": {},
   "outputs": [],
   "source": [
    "#How long do most trips last?"
   ]
  },
  {
   "cell_type": "code",
   "execution_count": 153,
   "metadata": {},
   "outputs": [
    {
     "data": {
      "image/png": "[encoded data removed]",
      "text/plain": [
       "<Figure size 720x576 with 1 Axes>"
      ]
     },
     "metadata": {
      "needs_background": "light"
     },
     "output_type": "display_data"
    }
   ],
   "source": [
    "binsize = 500\n",
    "bins = np.arange(0, df_copy['duration_sec'].max()+binsize, binsize)\n",
    "\n",
    "plt.figure(figsize=[10, 8])\n",
    "plt.hist(data = df_copy, x = 'duration_sec', bins = bins)\n",
    "plt.title('Distribution of Trip Duration in seconds')\n",
    "plt.xlabel('Duration in seconds')\n",
    "plt.ylabel('Number of Trips')\n",
    "plt.axis([-500, 7000, 0, 100000])\n",
    "plt.xticks(range(-500, 8000, 500))\n",
    "plt.yticks(range(0,120000,20000))\n",
    "plt.show()"
   ]
  },
  {
   "cell_type": "code",
   "execution_count": 154,
   "metadata": {},
   "outputs": [],
   "source": [
    "#From the histogram above, we can see that most trips last below 1000 seconds. Let us see how it will be distirbuted in minutes"
   ]
  },
  {
   "cell_type": "code",
   "execution_count": 155,
   "metadata": {},
   "outputs": [],
   "source": [
    "#creating a minutes column\n",
    "df_copy['duration_minutes'] = df_copy['duration_sec']/60"
   ]
  },
  {
   "cell_type": "code",
   "execution_count": 156,
   "metadata": {
    "scrolled": true
   },
   "outputs": [
    {
     "data": {
      "text/html": [
       "<div>\n",
       "<style scoped>\n",
       "    .dataframe tbody tr th:only-of-type {\n",
       "        vertical-align: middle;\n",
       "    }\n",
       "\n",
       "    .dataframe tbody tr th {\n",
       "        vertical-align: top;\n",
       "    }\n",
       "\n",
       "    .dataframe thead th {\n",
       "        text-align: right;\n",
       "    }\n",
       "</style>\n",
       "<table border=\"1\" class=\"dataframe\">\n",
       "  <thead>\n",
       "    <tr style=\"text-align: right;\">\n",
       "      <th></th>\n",
       "      <th>duration_sec</th>\n",
       "      <th>start_time</th>\n",
       "      <th>end_time</th>\n",
       "      <th>start_station_id</th>\n",
       "      <th>start_station_name</th>\n",
       "      <th>start_station_latitude</th>\n",
       "      <th>start_station_longitude</th>\n",
       "      <th>end_station_id</th>\n",
       "      <th>end_station_name</th>\n",
       "      <th>end_station_latitude</th>\n",
       "      <th>end_station_longitude</th>\n",
       "      <th>bike_id</th>\n",
       "      <th>user_type</th>\n",
       "      <th>member_birth_year</th>\n",
       "      <th>member_gender</th>\n",
       "      <th>bike_share_for_all_trip</th>\n",
       "      <th>duration_minutes</th>\n",
       "    </tr>\n",
       "  </thead>\n",
       "  <tbody>\n",
       "    <tr>\n",
       "      <th>175275</th>\n",
       "      <td>340</td>\n",
       "      <td>2019-02-02 14:55:35.979</td>\n",
       "      <td>2019-02-02 15:01:16.580</td>\n",
       "      <td>89.0</td>\n",
       "      <td>Division St at Potrero Ave</td>\n",
       "      <td>37.769218</td>\n",
       "      <td>-122.407646</td>\n",
       "      <td>50.0</td>\n",
       "      <td>2nd St at Townsend St</td>\n",
       "      <td>37.780526</td>\n",
       "      <td>-122.390288</td>\n",
       "      <td>5423</td>\n",
       "      <td>Subscriber</td>\n",
       "      <td>1992.0</td>\n",
       "      <td>Male</td>\n",
       "      <td>No</td>\n",
       "      <td>5.666667</td>\n",
       "    </tr>\n",
       "    <tr>\n",
       "      <th>82589</th>\n",
       "      <td>905</td>\n",
       "      <td>2019-02-18 09:35:44.101</td>\n",
       "      <td>2019-02-18 09:50:49.868</td>\n",
       "      <td>180.0</td>\n",
       "      <td>Telegraph Ave at 23rd St</td>\n",
       "      <td>37.812678</td>\n",
       "      <td>-122.268773</td>\n",
       "      <td>191.0</td>\n",
       "      <td>Market St at 40th St</td>\n",
       "      <td>37.830545</td>\n",
       "      <td>-122.273937</td>\n",
       "      <td>2339</td>\n",
       "      <td>Subscriber</td>\n",
       "      <td>1970.0</td>\n",
       "      <td>Female</td>\n",
       "      <td>No</td>\n",
       "      <td>15.083333</td>\n",
       "    </tr>\n",
       "    <tr>\n",
       "      <th>117805</th>\n",
       "      <td>349</td>\n",
       "      <td>2019-02-11 20:17:03.098</td>\n",
       "      <td>2019-02-11 20:22:52.828</td>\n",
       "      <td>129.0</td>\n",
       "      <td>Harrison St at 20th St</td>\n",
       "      <td>37.758862</td>\n",
       "      <td>-122.412544</td>\n",
       "      <td>381.0</td>\n",
       "      <td>20th St at Dolores St</td>\n",
       "      <td>37.758238</td>\n",
       "      <td>-122.426094</td>\n",
       "      <td>5137</td>\n",
       "      <td>Subscriber</td>\n",
       "      <td>1987.0</td>\n",
       "      <td>Male</td>\n",
       "      <td>No</td>\n",
       "      <td>5.816667</td>\n",
       "    </tr>\n",
       "    <tr>\n",
       "      <th>85411</th>\n",
       "      <td>1943</td>\n",
       "      <td>2019-02-17 14:51:59.669</td>\n",
       "      <td>2019-02-17 15:24:23.551</td>\n",
       "      <td>13.0</td>\n",
       "      <td>Commercial St at Montgomery St</td>\n",
       "      <td>37.794231</td>\n",
       "      <td>-122.402923</td>\n",
       "      <td>371.0</td>\n",
       "      <td>Lombard St at Columbus Ave</td>\n",
       "      <td>37.802746</td>\n",
       "      <td>-122.413579</td>\n",
       "      <td>6512</td>\n",
       "      <td>Customer</td>\n",
       "      <td>1993.0</td>\n",
       "      <td>Male</td>\n",
       "      <td>No</td>\n",
       "      <td>32.383333</td>\n",
       "    </tr>\n",
       "    <tr>\n",
       "      <th>113850</th>\n",
       "      <td>1135</td>\n",
       "      <td>2019-02-12 10:32:23.432</td>\n",
       "      <td>2019-02-12 10:51:18.528</td>\n",
       "      <td>71.0</td>\n",
       "      <td>Broderick St at Oak St</td>\n",
       "      <td>37.773063</td>\n",
       "      <td>-122.439078</td>\n",
       "      <td>26.0</td>\n",
       "      <td>1st St at Folsom St</td>\n",
       "      <td>37.787290</td>\n",
       "      <td>-122.394380</td>\n",
       "      <td>4658</td>\n",
       "      <td>Subscriber</td>\n",
       "      <td>1980.0</td>\n",
       "      <td>Male</td>\n",
       "      <td>Yes</td>\n",
       "      <td>18.916667</td>\n",
       "    </tr>\n",
       "  </tbody>\n",
       "</table>\n",
       "</div>"
      ],
      "text/plain": [
       "        duration_sec              start_time                end_time  \\\n",
       "175275           340 2019-02-02 14:55:35.979 2019-02-02 15:01:16.580   \n",
       "82589            905 2019-02-18 09:35:44.101 2019-02-18 09:50:49.868   \n",
       "117805           349 2019-02-11 20:17:03.098 2019-02-11 20:22:52.828   \n",
       "85411           1943 2019-02-17 14:51:59.669 2019-02-17 15:24:23.551   \n",
       "113850          1135 2019-02-12 10:32:23.432 2019-02-12 10:51:18.528   \n",
       "\n",
       "       start_station_id              start_station_name  \\\n",
       "175275             89.0      Division St at Potrero Ave   \n",
       "82589             180.0        Telegraph Ave at 23rd St   \n",
       "117805            129.0          Harrison St at 20th St   \n",
       "85411              13.0  Commercial St at Montgomery St   \n",
       "113850             71.0          Broderick St at Oak St   \n",
       "\n",
       "        start_station_latitude  start_station_longitude end_station_id  \\\n",
       "175275               37.769218              -122.407646           50.0   \n",
       "82589                37.812678              -122.268773          191.0   \n",
       "117805               37.758862              -122.412544          381.0   \n",
       "85411                37.794231              -122.402923          371.0   \n",
       "113850               37.773063              -122.439078           26.0   \n",
       "\n",
       "                  end_station_name  end_station_latitude  \\\n",
       "175275       2nd St at Townsend St             37.780526   \n",
       "82589         Market St at 40th St             37.830545   \n",
       "117805       20th St at Dolores St             37.758238   \n",
       "85411   Lombard St at Columbus Ave             37.802746   \n",
       "113850         1st St at Folsom St             37.787290   \n",
       "\n",
       "        end_station_longitude bike_id   user_type  member_birth_year  \\\n",
       "175275            -122.390288    5423  Subscriber             1992.0   \n",
       "82589             -122.273937    2339  Subscriber             1970.0   \n",
       "117805            -122.426094    5137  Subscriber             1987.0   \n",
       "85411             -122.413579    6512    Customer             1993.0   \n",
       "113850            -122.394380    4658  Subscriber             1980.0   \n",
       "\n",
       "       member_gender bike_share_for_all_trip  duration_minutes  \n",
       "175275          Male                      No          5.666667  \n",
       "82589         Female                      No         15.083333  \n",
       "117805          Male                      No          5.816667  \n",
       "85411           Male                      No         32.383333  \n",
       "113850          Male                     Yes         18.916667  "
      ]
     },
     "execution_count": 156,
     "metadata": {},
     "output_type": "execute_result"
    }
   ],
   "source": [
    "df_copy.sample(5)"
   ]
  },
  {
   "cell_type": "code",
   "execution_count": 157,
   "metadata": {},
   "outputs": [],
   "source": [
    "#Converting to integer\n",
    "df_copy['duration_minutes'] = df_copy['duration_minutes'].astype(int)"
   ]
  },
  {
   "cell_type": "code",
   "execution_count": 158,
   "metadata": {
    "scrolled": true
   },
   "outputs": [
    {
     "data": {
      "text/html": [
       "<div>\n",
       "<style scoped>\n",
       "    .dataframe tbody tr th:only-of-type {\n",
       "        vertical-align: middle;\n",
       "    }\n",
       "\n",
       "    .dataframe tbody tr th {\n",
       "        vertical-align: top;\n",
       "    }\n",
       "\n",
       "    .dataframe thead th {\n",
       "        text-align: right;\n",
       "    }\n",
       "</style>\n",
       "<table border=\"1\" class=\"dataframe\">\n",
       "  <thead>\n",
       "    <tr style=\"text-align: right;\">\n",
       "      <th></th>\n",
       "      <th>duration_sec</th>\n",
       "      <th>start_time</th>\n",
       "      <th>end_time</th>\n",
       "      <th>start_station_id</th>\n",
       "      <th>start_station_name</th>\n",
       "      <th>start_station_latitude</th>\n",
       "      <th>start_station_longitude</th>\n",
       "      <th>end_station_id</th>\n",
       "      <th>end_station_name</th>\n",
       "      <th>end_station_latitude</th>\n",
       "      <th>end_station_longitude</th>\n",
       "      <th>bike_id</th>\n",
       "      <th>user_type</th>\n",
       "      <th>member_birth_year</th>\n",
       "      <th>member_gender</th>\n",
       "      <th>bike_share_for_all_trip</th>\n",
       "      <th>duration_minutes</th>\n",
       "    </tr>\n",
       "  </thead>\n",
       "  <tbody>\n",
       "    <tr>\n",
       "      <th>181791</th>\n",
       "      <td>285</td>\n",
       "      <td>2019-02-01 08:55:54.310</td>\n",
       "      <td>2019-02-01 09:00:39.348</td>\n",
       "      <td>25.0</td>\n",
       "      <td>Howard St at 2nd St</td>\n",
       "      <td>37.787522</td>\n",
       "      <td>-122.397405</td>\n",
       "      <td>349.0</td>\n",
       "      <td>Howard St at Mary St</td>\n",
       "      <td>37.78101</td>\n",
       "      <td>-122.405666</td>\n",
       "      <td>3670</td>\n",
       "      <td>Subscriber</td>\n",
       "      <td>1987.0</td>\n",
       "      <td>Male</td>\n",
       "      <td>No</td>\n",
       "      <td>4</td>\n",
       "    </tr>\n",
       "  </tbody>\n",
       "</table>\n",
       "</div>"
      ],
      "text/plain": [
       "        duration_sec              start_time                end_time  \\\n",
       "181791           285 2019-02-01 08:55:54.310 2019-02-01 09:00:39.348   \n",
       "\n",
       "       start_station_id   start_station_name  start_station_latitude  \\\n",
       "181791             25.0  Howard St at 2nd St               37.787522   \n",
       "\n",
       "        start_station_longitude end_station_id      end_station_name  \\\n",
       "181791              -122.397405          349.0  Howard St at Mary St   \n",
       "\n",
       "        end_station_latitude  end_station_longitude bike_id   user_type  \\\n",
       "181791              37.78101            -122.405666    3670  Subscriber   \n",
       "\n",
       "        member_birth_year member_gender bike_share_for_all_trip  \\\n",
       "181791             1987.0          Male                      No   \n",
       "\n",
       "        duration_minutes  \n",
       "181791                 4  "
      ]
     },
     "execution_count": 158,
     "metadata": {},
     "output_type": "execute_result"
    }
   ],
   "source": [
    "df_copy.sample()"
   ]
  },
  {
   "cell_type": "code",
   "execution_count": 159,
   "metadata": {},
   "outputs": [
    {
     "data": {
      "image/png": "[encoded data removed]",
      "text/plain": [
       "<Figure size 1440x576 with 1 Axes>"
      ]
     },
     "metadata": {
      "needs_background": "light"
     },
     "output_type": "display_data"
    }
   ],
   "source": [
    "binsize = 9\n",
    "bins = np.arange(0, df_copy['duration_minutes'].max()+binsize, binsize)\n",
    "\n",
    "plt.figure(figsize=[20, 8])\n",
    "plt.hist(data = df_copy, x = 'duration_minutes', bins = bins)\n",
    "plt.title('Distribution of Trip Duration in minutes')\n",
    "plt.xlabel('Duration in minutes)')\n",
    "plt.ylabel('Number of Trips')\n",
    "plt.axis([-5, 100, 0, 100000])\n",
    "plt.xticks(range(-5,100,5))\n",
    "plt.yticks(range(0,120000,20000))\n",
    "plt.show()"
   ]
  },
  {
   "cell_type": "code",
   "execution_count": 160,
   "metadata": {},
   "outputs": [],
   "source": [
    "#Going deeper in minutes, we can see most common trip lasts between 0-10 minutes"
   ]
  },
  {
   "cell_type": "code",
   "execution_count": 161,
   "metadata": {},
   "outputs": [],
   "source": [
    "#What age range takes the most trips?\n",
    "\n",
    "#Creating an age column"
   ]
  },
  {
   "cell_type": "code",
   "execution_count": 162,
   "metadata": {},
   "outputs": [
    {
     "data": {
      "text/html": [
       "<div>\n",
       "<style scoped>\n",
       "    .dataframe tbody tr th:only-of-type {\n",
       "        vertical-align: middle;\n",
       "    }\n",
       "\n",
       "    .dataframe tbody tr th {\n",
       "        vertical-align: top;\n",
       "    }\n",
       "\n",
       "    .dataframe thead th {\n",
       "        text-align: right;\n",
       "    }\n",
       "</style>\n",
       "<table border=\"1\" class=\"dataframe\">\n",
       "  <thead>\n",
       "    <tr style=\"text-align: right;\">\n",
       "      <th></th>\n",
       "      <th>duration_sec</th>\n",
       "      <th>start_time</th>\n",
       "      <th>end_time</th>\n",
       "      <th>start_station_id</th>\n",
       "      <th>start_station_name</th>\n",
       "      <th>start_station_latitude</th>\n",
       "      <th>start_station_longitude</th>\n",
       "      <th>end_station_id</th>\n",
       "      <th>end_station_name</th>\n",
       "      <th>end_station_latitude</th>\n",
       "      <th>end_station_longitude</th>\n",
       "      <th>bike_id</th>\n",
       "      <th>user_type</th>\n",
       "      <th>member_birth_year</th>\n",
       "      <th>member_gender</th>\n",
       "      <th>bike_share_for_all_trip</th>\n",
       "      <th>duration_minutes</th>\n",
       "      <th>member_age</th>\n",
       "    </tr>\n",
       "  </thead>\n",
       "  <tbody>\n",
       "    <tr>\n",
       "      <th>100729</th>\n",
       "      <td>263</td>\n",
       "      <td>2019-02-14 18:10:30.763</td>\n",
       "      <td>2019-02-14 18:14:54.503</td>\n",
       "      <td>160.0</td>\n",
       "      <td>West Oakland BART Station</td>\n",
       "      <td>37.805318</td>\n",
       "      <td>-122.294837</td>\n",
       "      <td>230.0</td>\n",
       "      <td>14th St at Mandela Pkwy</td>\n",
       "      <td>37.810743</td>\n",
       "      <td>-122.291415</td>\n",
       "      <td>4494</td>\n",
       "      <td>Subscriber</td>\n",
       "      <td>1987.0</td>\n",
       "      <td>Male</td>\n",
       "      <td>No</td>\n",
       "      <td>4</td>\n",
       "      <td>35.0</td>\n",
       "    </tr>\n",
       "    <tr>\n",
       "      <th>40497</th>\n",
       "      <td>554</td>\n",
       "      <td>2019-02-22 20:34:13.007</td>\n",
       "      <td>2019-02-22 20:43:27.197</td>\n",
       "      <td>133.0</td>\n",
       "      <td>Valencia St at 22nd St</td>\n",
       "      <td>37.755213</td>\n",
       "      <td>-122.420975</td>\n",
       "      <td>95.0</td>\n",
       "      <td>Sanchez St at 15th St</td>\n",
       "      <td>37.766219</td>\n",
       "      <td>-122.431060</td>\n",
       "      <td>6113</td>\n",
       "      <td>Subscriber</td>\n",
       "      <td>1986.0</td>\n",
       "      <td>Female</td>\n",
       "      <td>No</td>\n",
       "      <td>9</td>\n",
       "      <td>36.0</td>\n",
       "    </tr>\n",
       "    <tr>\n",
       "      <th>114939</th>\n",
       "      <td>778</td>\n",
       "      <td>2019-02-12 08:58:51.428</td>\n",
       "      <td>2019-02-12 09:11:50.135</td>\n",
       "      <td>139.0</td>\n",
       "      <td>Garfield Square (25th St at Harrison St)</td>\n",
       "      <td>37.751017</td>\n",
       "      <td>-122.411901</td>\n",
       "      <td>89.0</td>\n",
       "      <td>Division St at Potrero Ave</td>\n",
       "      <td>37.769218</td>\n",
       "      <td>-122.407646</td>\n",
       "      <td>2868</td>\n",
       "      <td>Subscriber</td>\n",
       "      <td>1983.0</td>\n",
       "      <td>Male</td>\n",
       "      <td>No</td>\n",
       "      <td>12</td>\n",
       "      <td>39.0</td>\n",
       "    </tr>\n",
       "    <tr>\n",
       "      <th>122176</th>\n",
       "      <td>576</td>\n",
       "      <td>2019-02-11 12:40:44.189</td>\n",
       "      <td>2019-02-11 12:50:20.577</td>\n",
       "      <td>107.0</td>\n",
       "      <td>17th St at Dolores St</td>\n",
       "      <td>37.763015</td>\n",
       "      <td>-122.426497</td>\n",
       "      <td>90.0</td>\n",
       "      <td>Townsend St at 7th St</td>\n",
       "      <td>37.771058</td>\n",
       "      <td>-122.402717</td>\n",
       "      <td>4372</td>\n",
       "      <td>Subscriber</td>\n",
       "      <td>1989.0</td>\n",
       "      <td>Female</td>\n",
       "      <td>No</td>\n",
       "      <td>9</td>\n",
       "      <td>33.0</td>\n",
       "    </tr>\n",
       "    <tr>\n",
       "      <th>14718</th>\n",
       "      <td>435</td>\n",
       "      <td>2019-02-27 11:21:33.345</td>\n",
       "      <td>2019-02-27 11:28:48.449</td>\n",
       "      <td>296.0</td>\n",
       "      <td>5th St at Virginia St</td>\n",
       "      <td>37.325998</td>\n",
       "      <td>-121.877120</td>\n",
       "      <td>310.0</td>\n",
       "      <td>San Fernando St at 4th St</td>\n",
       "      <td>37.335885</td>\n",
       "      <td>-121.885660</td>\n",
       "      <td>5644</td>\n",
       "      <td>Subscriber</td>\n",
       "      <td>1995.0</td>\n",
       "      <td>Male</td>\n",
       "      <td>Yes</td>\n",
       "      <td>7</td>\n",
       "      <td>27.0</td>\n",
       "    </tr>\n",
       "  </tbody>\n",
       "</table>\n",
       "</div>"
      ],
      "text/plain": [
       "        duration_sec              start_time                end_time  \\\n",
       "100729           263 2019-02-14 18:10:30.763 2019-02-14 18:14:54.503   \n",
       "40497            554 2019-02-22 20:34:13.007 2019-02-22 20:43:27.197   \n",
       "114939           778 2019-02-12 08:58:51.428 2019-02-12 09:11:50.135   \n",
       "122176           576 2019-02-11 12:40:44.189 2019-02-11 12:50:20.577   \n",
       "14718            435 2019-02-27 11:21:33.345 2019-02-27 11:28:48.449   \n",
       "\n",
       "       start_station_id                        start_station_name  \\\n",
       "100729            160.0                 West Oakland BART Station   \n",
       "40497             133.0                    Valencia St at 22nd St   \n",
       "114939            139.0  Garfield Square (25th St at Harrison St)   \n",
       "122176            107.0                     17th St at Dolores St   \n",
       "14718             296.0                     5th St at Virginia St   \n",
       "\n",
       "        start_station_latitude  start_station_longitude end_station_id  \\\n",
       "100729               37.805318              -122.294837          230.0   \n",
       "40497                37.755213              -122.420975           95.0   \n",
       "114939               37.751017              -122.411901           89.0   \n",
       "122176               37.763015              -122.426497           90.0   \n",
       "14718                37.325998              -121.877120          310.0   \n",
       "\n",
       "                  end_station_name  end_station_latitude  \\\n",
       "100729     14th St at Mandela Pkwy             37.810743   \n",
       "40497        Sanchez St at 15th St             37.766219   \n",
       "114939  Division St at Potrero Ave             37.769218   \n",
       "122176       Townsend St at 7th St             37.771058   \n",
       "14718    San Fernando St at 4th St             37.335885   \n",
       "\n",
       "        end_station_longitude bike_id   user_type  member_birth_year  \\\n",
       "100729            -122.291415    4494  Subscriber             1987.0   \n",
       "40497             -122.431060    6113  Subscriber             1986.0   \n",
       "114939            -122.407646    2868  Subscriber             1983.0   \n",
       "122176            -122.402717    4372  Subscriber             1989.0   \n",
       "14718             -121.885660    5644  Subscriber             1995.0   \n",
       "\n",
       "       member_gender bike_share_for_all_trip  duration_minutes  member_age  \n",
       "100729          Male                      No                 4        35.0  \n",
       "40497         Female                      No                 9        36.0  \n",
       "114939          Male                      No                12        39.0  \n",
       "122176        Female                      No                 9        33.0  \n",
       "14718           Male                     Yes                 7        27.0  "
      ]
     },
     "execution_count": 162,
     "metadata": {},
     "output_type": "execute_result"
    }
   ],
   "source": [
    "df_copy['member_age'] = 2022 - df_copy['member_birth_year']\n",
    "\n",
    "df_copy.sample(5)"
   ]
  },
  {
   "cell_type": "code",
   "execution_count": 163,
   "metadata": {},
   "outputs": [],
   "source": [
    "#Converting to integer\n",
    "df_copy['member_age'] = df_copy['member_age'].astype(int)"
   ]
  },
  {
   "cell_type": "code",
   "execution_count": 164,
   "metadata": {},
   "outputs": [
    {
     "data": {
      "text/html": [
       "<div>\n",
       "<style scoped>\n",
       "    .dataframe tbody tr th:only-of-type {\n",
       "        vertical-align: middle;\n",
       "    }\n",
       "\n",
       "    .dataframe tbody tr th {\n",
       "        vertical-align: top;\n",
       "    }\n",
       "\n",
       "    .dataframe thead th {\n",
       "        text-align: right;\n",
       "    }\n",
       "</style>\n",
       "<table border=\"1\" class=\"dataframe\">\n",
       "  <thead>\n",
       "    <tr style=\"text-align: right;\">\n",
       "      <th></th>\n",
       "      <th>duration_sec</th>\n",
       "      <th>start_time</th>\n",
       "      <th>end_time</th>\n",
       "      <th>start_station_id</th>\n",
       "      <th>start_station_name</th>\n",
       "      <th>start_station_latitude</th>\n",
       "      <th>start_station_longitude</th>\n",
       "      <th>end_station_id</th>\n",
       "      <th>end_station_name</th>\n",
       "      <th>end_station_latitude</th>\n",
       "      <th>end_station_longitude</th>\n",
       "      <th>bike_id</th>\n",
       "      <th>user_type</th>\n",
       "      <th>member_birth_year</th>\n",
       "      <th>member_gender</th>\n",
       "      <th>bike_share_for_all_trip</th>\n",
       "      <th>duration_minutes</th>\n",
       "      <th>member_age</th>\n",
       "    </tr>\n",
       "  </thead>\n",
       "  <tbody>\n",
       "    <tr>\n",
       "      <th>60412</th>\n",
       "      <td>257</td>\n",
       "      <td>2019-02-20 18:44:31.333</td>\n",
       "      <td>2019-02-20 18:48:48.743</td>\n",
       "      <td>44.0</td>\n",
       "      <td>Civic Center/UN Plaza BART Station (Market St ...</td>\n",
       "      <td>37.781074</td>\n",
       "      <td>-122.411738</td>\n",
       "      <td>3.0</td>\n",
       "      <td>Powell St BART Station (Market St at 4th St)</td>\n",
       "      <td>37.786375</td>\n",
       "      <td>-122.404904</td>\n",
       "      <td>5017</td>\n",
       "      <td>Subscriber</td>\n",
       "      <td>1965.0</td>\n",
       "      <td>Male</td>\n",
       "      <td>Yes</td>\n",
       "      <td>4</td>\n",
       "      <td>57</td>\n",
       "    </tr>\n",
       "    <tr>\n",
       "      <th>32926</th>\n",
       "      <td>3350</td>\n",
       "      <td>2019-02-24 12:26:40.759</td>\n",
       "      <td>2019-02-24 13:22:31.702</td>\n",
       "      <td>201.0</td>\n",
       "      <td>10th St at Fallon St</td>\n",
       "      <td>37.797673</td>\n",
       "      <td>-122.262997</td>\n",
       "      <td>201.0</td>\n",
       "      <td>10th St at Fallon St</td>\n",
       "      <td>37.797673</td>\n",
       "      <td>-122.262997</td>\n",
       "      <td>4682</td>\n",
       "      <td>Subscriber</td>\n",
       "      <td>1975.0</td>\n",
       "      <td>Male</td>\n",
       "      <td>Yes</td>\n",
       "      <td>55</td>\n",
       "      <td>47</td>\n",
       "    </tr>\n",
       "    <tr>\n",
       "      <th>78952</th>\n",
       "      <td>8623</td>\n",
       "      <td>2019-02-18 16:03:52.854</td>\n",
       "      <td>2019-02-18 18:27:36.315</td>\n",
       "      <td>95.0</td>\n",
       "      <td>Sanchez St at 15th St</td>\n",
       "      <td>37.766219</td>\n",
       "      <td>-122.431060</td>\n",
       "      <td>377.0</td>\n",
       "      <td>Fell St at Stanyan St</td>\n",
       "      <td>37.771917</td>\n",
       "      <td>-122.453704</td>\n",
       "      <td>5369</td>\n",
       "      <td>Customer</td>\n",
       "      <td>1988.0</td>\n",
       "      <td>Male</td>\n",
       "      <td>No</td>\n",
       "      <td>143</td>\n",
       "      <td>34</td>\n",
       "    </tr>\n",
       "    <tr>\n",
       "      <th>38341</th>\n",
       "      <td>734</td>\n",
       "      <td>2019-02-23 12:07:23.582</td>\n",
       "      <td>2019-02-23 12:19:38.368</td>\n",
       "      <td>144.0</td>\n",
       "      <td>Precita Park</td>\n",
       "      <td>37.747300</td>\n",
       "      <td>-122.411403</td>\n",
       "      <td>105.0</td>\n",
       "      <td>16th St at Prosper St</td>\n",
       "      <td>37.764285</td>\n",
       "      <td>-122.431804</td>\n",
       "      <td>5719</td>\n",
       "      <td>Subscriber</td>\n",
       "      <td>1975.0</td>\n",
       "      <td>Male</td>\n",
       "      <td>No</td>\n",
       "      <td>12</td>\n",
       "      <td>47</td>\n",
       "    </tr>\n",
       "    <tr>\n",
       "      <th>33349</th>\n",
       "      <td>1790</td>\n",
       "      <td>2019-02-24 11:42:43.464</td>\n",
       "      <td>2019-02-24 12:12:33.545</td>\n",
       "      <td>176.0</td>\n",
       "      <td>MacArthur BART Station</td>\n",
       "      <td>37.828410</td>\n",
       "      <td>-122.266315</td>\n",
       "      <td>265.0</td>\n",
       "      <td>Ninth St at Parker St</td>\n",
       "      <td>37.858868</td>\n",
       "      <td>-122.291209</td>\n",
       "      <td>5707</td>\n",
       "      <td>Customer</td>\n",
       "      <td>1974.0</td>\n",
       "      <td>Male</td>\n",
       "      <td>No</td>\n",
       "      <td>29</td>\n",
       "      <td>48</td>\n",
       "    </tr>\n",
       "  </tbody>\n",
       "</table>\n",
       "</div>"
      ],
      "text/plain": [
       "       duration_sec              start_time                end_time  \\\n",
       "60412           257 2019-02-20 18:44:31.333 2019-02-20 18:48:48.743   \n",
       "32926          3350 2019-02-24 12:26:40.759 2019-02-24 13:22:31.702   \n",
       "78952          8623 2019-02-18 16:03:52.854 2019-02-18 18:27:36.315   \n",
       "38341           734 2019-02-23 12:07:23.582 2019-02-23 12:19:38.368   \n",
       "33349          1790 2019-02-24 11:42:43.464 2019-02-24 12:12:33.545   \n",
       "\n",
       "      start_station_id                                 start_station_name  \\\n",
       "60412             44.0  Civic Center/UN Plaza BART Station (Market St ...   \n",
       "32926            201.0                               10th St at Fallon St   \n",
       "78952             95.0                              Sanchez St at 15th St   \n",
       "38341            144.0                                       Precita Park   \n",
       "33349            176.0                             MacArthur BART Station   \n",
       "\n",
       "       start_station_latitude  start_station_longitude end_station_id  \\\n",
       "60412               37.781074              -122.411738            3.0   \n",
       "32926               37.797673              -122.262997          201.0   \n",
       "78952               37.766219              -122.431060          377.0   \n",
       "38341               37.747300              -122.411403          105.0   \n",
       "33349               37.828410              -122.266315          265.0   \n",
       "\n",
       "                                   end_station_name  end_station_latitude  \\\n",
       "60412  Powell St BART Station (Market St at 4th St)             37.786375   \n",
       "32926                          10th St at Fallon St             37.797673   \n",
       "78952                         Fell St at Stanyan St             37.771917   \n",
       "38341                         16th St at Prosper St             37.764285   \n",
       "33349                         Ninth St at Parker St             37.858868   \n",
       "\n",
       "       end_station_longitude bike_id   user_type  member_birth_year  \\\n",
       "60412            -122.404904    5017  Subscriber             1965.0   \n",
       "32926            -122.262997    4682  Subscriber             1975.0   \n",
       "78952            -122.453704    5369    Customer             1988.0   \n",
       "38341            -122.431804    5719  Subscriber             1975.0   \n",
       "33349            -122.291209    5707    Customer             1974.0   \n",
       "\n",
       "      member_gender bike_share_for_all_trip  duration_minutes  member_age  \n",
       "60412          Male                     Yes                 4          57  \n",
       "32926          Male                     Yes                55          47  \n",
       "78952          Male                      No               143          34  \n",
       "38341          Male                      No                12          47  \n",
       "33349          Male                      No                29          48  "
      ]
     },
     "execution_count": 164,
     "metadata": {},
     "output_type": "execute_result"
    }
   ],
   "source": [
    "df_copy.sample(5)"
   ]
  },
  {
   "cell_type": "code",
   "execution_count": 165,
   "metadata": {},
   "outputs": [
    {
     "data": {
      "image/png": "[encoded data removed]",
      "text/plain": [
       "<Figure size 576x360 with 1 Axes>"
      ]
     },
     "metadata": {
      "needs_background": "light"
     },
     "output_type": "display_data"
    }
   ],
   "source": [
    "binsize = 10\n",
    "bins = np.arange(0, df_copy['member_age'].max()+binsize, binsize)\n",
    "\n",
    "plt.figure(figsize=[8, 5])\n",
    "plt.hist(data = df_copy, x = 'member_age', bins = bins)\n",
    "plt.title('Member age that takes most trips')\n",
    "plt.xlabel('Age in years')\n",
    "plt.ylabel('Number of trips')\n",
    "plt.axis([0, 100, 0, 100000])\n",
    "plt.xticks(range(0,100,5))\n",
    "plt.yticks(range(0,120000,20000))\n",
    "plt.show()"
   ]
  },
  {
   "cell_type": "code",
   "execution_count": 166,
   "metadata": {},
   "outputs": [],
   "source": [
    "#Members that take the most trips are between 30-40 years old."
   ]
  },
  {
   "cell_type": "code",
   "execution_count": 167,
   "metadata": {},
   "outputs": [
    {
     "data": {
      "text/html": [
       "<div>\n",
       "<style scoped>\n",
       "    .dataframe tbody tr th:only-of-type {\n",
       "        vertical-align: middle;\n",
       "    }\n",
       "\n",
       "    .dataframe tbody tr th {\n",
       "        vertical-align: top;\n",
       "    }\n",
       "\n",
       "    .dataframe thead th {\n",
       "        text-align: right;\n",
       "    }\n",
       "</style>\n",
       "<table border=\"1\" class=\"dataframe\">\n",
       "  <thead>\n",
       "    <tr style=\"text-align: right;\">\n",
       "      <th></th>\n",
       "      <th>duration_sec</th>\n",
       "      <th>start_time</th>\n",
       "      <th>end_time</th>\n",
       "      <th>start_station_id</th>\n",
       "      <th>start_station_name</th>\n",
       "      <th>start_station_latitude</th>\n",
       "      <th>start_station_longitude</th>\n",
       "      <th>end_station_id</th>\n",
       "      <th>end_station_name</th>\n",
       "      <th>end_station_latitude</th>\n",
       "      <th>end_station_longitude</th>\n",
       "      <th>bike_id</th>\n",
       "      <th>user_type</th>\n",
       "      <th>member_birth_year</th>\n",
       "      <th>member_gender</th>\n",
       "      <th>bike_share_for_all_trip</th>\n",
       "      <th>duration_minutes</th>\n",
       "      <th>member_age</th>\n",
       "    </tr>\n",
       "  </thead>\n",
       "  <tbody>\n",
       "    <tr>\n",
       "      <th>146334</th>\n",
       "      <td>509</td>\n",
       "      <td>2019-02-07 08:48:52.306</td>\n",
       "      <td>2019-02-07 08:57:21.561</td>\n",
       "      <td>64.0</td>\n",
       "      <td>5th St at Brannan St</td>\n",
       "      <td>37.776754</td>\n",
       "      <td>-122.399018</td>\n",
       "      <td>22.0</td>\n",
       "      <td>Howard St at Beale St</td>\n",
       "      <td>37.789756</td>\n",
       "      <td>-122.394643</td>\n",
       "      <td>4377</td>\n",
       "      <td>Subscriber</td>\n",
       "      <td>1978.0</td>\n",
       "      <td>Male</td>\n",
       "      <td>No</td>\n",
       "      <td>8</td>\n",
       "      <td>44</td>\n",
       "    </tr>\n",
       "    <tr>\n",
       "      <th>9358</th>\n",
       "      <td>767</td>\n",
       "      <td>2019-02-28 07:17:18.588</td>\n",
       "      <td>2019-02-28 07:30:06.576</td>\n",
       "      <td>4.0</td>\n",
       "      <td>Cyril Magnin St at Ellis St</td>\n",
       "      <td>37.785881</td>\n",
       "      <td>-122.408915</td>\n",
       "      <td>25.0</td>\n",
       "      <td>Howard St at 2nd St</td>\n",
       "      <td>37.787522</td>\n",
       "      <td>-122.397405</td>\n",
       "      <td>4810</td>\n",
       "      <td>Subscriber</td>\n",
       "      <td>1999.0</td>\n",
       "      <td>Female</td>\n",
       "      <td>No</td>\n",
       "      <td>12</td>\n",
       "      <td>23</td>\n",
       "    </tr>\n",
       "    <tr>\n",
       "      <th>72818</th>\n",
       "      <td>595</td>\n",
       "      <td>2019-02-19 15:35:15.757</td>\n",
       "      <td>2019-02-19 15:45:10.887</td>\n",
       "      <td>114.0</td>\n",
       "      <td>Rhode Island St at 17th St</td>\n",
       "      <td>37.764478</td>\n",
       "      <td>-122.402570</td>\n",
       "      <td>5.0</td>\n",
       "      <td>Powell St BART Station (Market St at 5th St)</td>\n",
       "      <td>37.783899</td>\n",
       "      <td>-122.408445</td>\n",
       "      <td>5559</td>\n",
       "      <td>Subscriber</td>\n",
       "      <td>1987.0</td>\n",
       "      <td>Male</td>\n",
       "      <td>No</td>\n",
       "      <td>9</td>\n",
       "      <td>35</td>\n",
       "    </tr>\n",
       "    <tr>\n",
       "      <th>178024</th>\n",
       "      <td>1015</td>\n",
       "      <td>2019-02-01 17:55:44.387</td>\n",
       "      <td>2019-02-01 18:12:40.220</td>\n",
       "      <td>21.0</td>\n",
       "      <td>Montgomery St BART Station (Market St at 2nd St)</td>\n",
       "      <td>37.789625</td>\n",
       "      <td>-122.400811</td>\n",
       "      <td>114.0</td>\n",
       "      <td>Rhode Island St at 17th St</td>\n",
       "      <td>37.764478</td>\n",
       "      <td>-122.402570</td>\n",
       "      <td>5202</td>\n",
       "      <td>Subscriber</td>\n",
       "      <td>1989.0</td>\n",
       "      <td>Male</td>\n",
       "      <td>No</td>\n",
       "      <td>16</td>\n",
       "      <td>33</td>\n",
       "    </tr>\n",
       "    <tr>\n",
       "      <th>150871</th>\n",
       "      <td>839</td>\n",
       "      <td>2019-02-06 17:39:33.357</td>\n",
       "      <td>2019-02-06 17:53:33.158</td>\n",
       "      <td>383.0</td>\n",
       "      <td>Golden Gate Ave at Franklin St</td>\n",
       "      <td>37.780787</td>\n",
       "      <td>-122.421934</td>\n",
       "      <td>365.0</td>\n",
       "      <td>Turk St at Fillmore St</td>\n",
       "      <td>37.780450</td>\n",
       "      <td>-122.431946</td>\n",
       "      <td>3027</td>\n",
       "      <td>Customer</td>\n",
       "      <td>1977.0</td>\n",
       "      <td>Male</td>\n",
       "      <td>No</td>\n",
       "      <td>13</td>\n",
       "      <td>45</td>\n",
       "    </tr>\n",
       "  </tbody>\n",
       "</table>\n",
       "</div>"
      ],
      "text/plain": [
       "        duration_sec              start_time                end_time  \\\n",
       "146334           509 2019-02-07 08:48:52.306 2019-02-07 08:57:21.561   \n",
       "9358             767 2019-02-28 07:17:18.588 2019-02-28 07:30:06.576   \n",
       "72818            595 2019-02-19 15:35:15.757 2019-02-19 15:45:10.887   \n",
       "178024          1015 2019-02-01 17:55:44.387 2019-02-01 18:12:40.220   \n",
       "150871           839 2019-02-06 17:39:33.357 2019-02-06 17:53:33.158   \n",
       "\n",
       "       start_station_id                                start_station_name  \\\n",
       "146334             64.0                              5th St at Brannan St   \n",
       "9358                4.0                       Cyril Magnin St at Ellis St   \n",
       "72818             114.0                        Rhode Island St at 17th St   \n",
       "178024             21.0  Montgomery St BART Station (Market St at 2nd St)   \n",
       "150871            383.0                    Golden Gate Ave at Franklin St   \n",
       "\n",
       "        start_station_latitude  start_station_longitude end_station_id  \\\n",
       "146334               37.776754              -122.399018           22.0   \n",
       "9358                 37.785881              -122.408915           25.0   \n",
       "72818                37.764478              -122.402570            5.0   \n",
       "178024               37.789625              -122.400811          114.0   \n",
       "150871               37.780787              -122.421934          365.0   \n",
       "\n",
       "                                    end_station_name  end_station_latitude  \\\n",
       "146334                         Howard St at Beale St             37.789756   \n",
       "9358                             Howard St at 2nd St             37.787522   \n",
       "72818   Powell St BART Station (Market St at 5th St)             37.783899   \n",
       "178024                    Rhode Island St at 17th St             37.764478   \n",
       "150871                        Turk St at Fillmore St             37.780450   \n",
       "\n",
       "        end_station_longitude bike_id   user_type  member_birth_year  \\\n",
       "146334            -122.394643    4377  Subscriber             1978.0   \n",
       "9358              -122.397405    4810  Subscriber             1999.0   \n",
       "72818             -122.408445    5559  Subscriber             1987.0   \n",
       "178024            -122.402570    5202  Subscriber             1989.0   \n",
       "150871            -122.431946    3027    Customer             1977.0   \n",
       "\n",
       "       member_gender bike_share_for_all_trip  duration_minutes  member_age  \n",
       "146334          Male                      No                 8          44  \n",
       "9358          Female                      No                12          23  \n",
       "72818           Male                      No                 9          35  \n",
       "178024          Male                      No                16          33  \n",
       "150871          Male                      No                13          45  "
      ]
     },
     "execution_count": 167,
     "metadata": {},
     "output_type": "execute_result"
    }
   ],
   "source": [
    "df_copy.sample(5)"
   ]
  },
  {
   "cell_type": "code",
   "execution_count": 168,
   "metadata": {},
   "outputs": [],
   "source": [
    "#Let us see which weekly use of bike sharing system\n",
    "\n",
    "df_copy['weekday']=df_copy['start_time'].dt.strftime('%a')"
   ]
  },
  {
   "cell_type": "code",
   "execution_count": 169,
   "metadata": {},
   "outputs": [
    {
     "data": {
      "text/html": [
       "<div>\n",
       "<style scoped>\n",
       "    .dataframe tbody tr th:only-of-type {\n",
       "        vertical-align: middle;\n",
       "    }\n",
       "\n",
       "    .dataframe tbody tr th {\n",
       "        vertical-align: top;\n",
       "    }\n",
       "\n",
       "    .dataframe thead th {\n",
       "        text-align: right;\n",
       "    }\n",
       "</style>\n",
       "<table border=\"1\" class=\"dataframe\">\n",
       "  <thead>\n",
       "    <tr style=\"text-align: right;\">\n",
       "      <th></th>\n",
       "      <th>duration_sec</th>\n",
       "      <th>start_time</th>\n",
       "      <th>end_time</th>\n",
       "      <th>start_station_id</th>\n",
       "      <th>start_station_name</th>\n",
       "      <th>start_station_latitude</th>\n",
       "      <th>start_station_longitude</th>\n",
       "      <th>end_station_id</th>\n",
       "      <th>end_station_name</th>\n",
       "      <th>end_station_latitude</th>\n",
       "      <th>end_station_longitude</th>\n",
       "      <th>bike_id</th>\n",
       "      <th>user_type</th>\n",
       "      <th>member_birth_year</th>\n",
       "      <th>member_gender</th>\n",
       "      <th>bike_share_for_all_trip</th>\n",
       "      <th>duration_minutes</th>\n",
       "      <th>member_age</th>\n",
       "      <th>weekday</th>\n",
       "    </tr>\n",
       "  </thead>\n",
       "  <tbody>\n",
       "    <tr>\n",
       "      <th>116319</th>\n",
       "      <td>570</td>\n",
       "      <td>2019-02-12 07:53:29.714</td>\n",
       "      <td>2019-02-12 08:03:00.506</td>\n",
       "      <td>93.0</td>\n",
       "      <td>4th St at Mission Bay Blvd S</td>\n",
       "      <td>37.770407</td>\n",
       "      <td>-122.391198</td>\n",
       "      <td>24.0</td>\n",
       "      <td>Spear St at Folsom St</td>\n",
       "      <td>37.789677</td>\n",
       "      <td>-122.390428</td>\n",
       "      <td>4986</td>\n",
       "      <td>Subscriber</td>\n",
       "      <td>1991.0</td>\n",
       "      <td>Male</td>\n",
       "      <td>No</td>\n",
       "      <td>9</td>\n",
       "      <td>31</td>\n",
       "      <td>Tue</td>\n",
       "    </tr>\n",
       "    <tr>\n",
       "      <th>80474</th>\n",
       "      <td>471</td>\n",
       "      <td>2019-02-18 15:32:44.113</td>\n",
       "      <td>2019-02-18 15:40:35.399</td>\n",
       "      <td>99.0</td>\n",
       "      <td>Folsom St at 15th St</td>\n",
       "      <td>37.767037</td>\n",
       "      <td>-122.415442</td>\n",
       "      <td>139.0</td>\n",
       "      <td>Garfield Square (25th St at Harrison St)</td>\n",
       "      <td>37.751017</td>\n",
       "      <td>-122.411901</td>\n",
       "      <td>5400</td>\n",
       "      <td>Subscriber</td>\n",
       "      <td>1991.0</td>\n",
       "      <td>Male</td>\n",
       "      <td>No</td>\n",
       "      <td>7</td>\n",
       "      <td>31</td>\n",
       "      <td>Mon</td>\n",
       "    </tr>\n",
       "    <tr>\n",
       "      <th>24335</th>\n",
       "      <td>761</td>\n",
       "      <td>2019-02-25 18:19:37.792</td>\n",
       "      <td>2019-02-25 18:32:18.941</td>\n",
       "      <td>23.0</td>\n",
       "      <td>The Embarcadero at Steuart St</td>\n",
       "      <td>37.791464</td>\n",
       "      <td>-122.391034</td>\n",
       "      <td>93.0</td>\n",
       "      <td>4th St at Mission Bay Blvd S</td>\n",
       "      <td>37.770407</td>\n",
       "      <td>-122.391198</td>\n",
       "      <td>6051</td>\n",
       "      <td>Customer</td>\n",
       "      <td>1981.0</td>\n",
       "      <td>Male</td>\n",
       "      <td>No</td>\n",
       "      <td>12</td>\n",
       "      <td>41</td>\n",
       "      <td>Mon</td>\n",
       "    </tr>\n",
       "    <tr>\n",
       "      <th>138899</th>\n",
       "      <td>326</td>\n",
       "      <td>2019-02-08 01:06:07.802</td>\n",
       "      <td>2019-02-08 01:11:34.413</td>\n",
       "      <td>239.0</td>\n",
       "      <td>Bancroft Way at Telegraph Ave</td>\n",
       "      <td>37.868813</td>\n",
       "      <td>-122.258764</td>\n",
       "      <td>256.0</td>\n",
       "      <td>Hearst Ave at Euclid Ave</td>\n",
       "      <td>37.875112</td>\n",
       "      <td>-122.260553</td>\n",
       "      <td>1770</td>\n",
       "      <td>Subscriber</td>\n",
       "      <td>1964.0</td>\n",
       "      <td>Male</td>\n",
       "      <td>No</td>\n",
       "      <td>5</td>\n",
       "      <td>58</td>\n",
       "      <td>Fri</td>\n",
       "    </tr>\n",
       "    <tr>\n",
       "      <th>38634</th>\n",
       "      <td>228</td>\n",
       "      <td>2019-02-23 11:38:53.633</td>\n",
       "      <td>2019-02-23 11:42:42.153</td>\n",
       "      <td>166.0</td>\n",
       "      <td>College Ave at Alcatraz Ave</td>\n",
       "      <td>37.851376</td>\n",
       "      <td>-122.252523</td>\n",
       "      <td>249.0</td>\n",
       "      <td>Russell St at College Ave</td>\n",
       "      <td>37.858473</td>\n",
       "      <td>-122.253253</td>\n",
       "      <td>4643</td>\n",
       "      <td>Subscriber</td>\n",
       "      <td>1974.0</td>\n",
       "      <td>Male</td>\n",
       "      <td>No</td>\n",
       "      <td>3</td>\n",
       "      <td>48</td>\n",
       "      <td>Sat</td>\n",
       "    </tr>\n",
       "  </tbody>\n",
       "</table>\n",
       "</div>"
      ],
      "text/plain": [
       "        duration_sec              start_time                end_time  \\\n",
       "116319           570 2019-02-12 07:53:29.714 2019-02-12 08:03:00.506   \n",
       "80474            471 2019-02-18 15:32:44.113 2019-02-18 15:40:35.399   \n",
       "24335            761 2019-02-25 18:19:37.792 2019-02-25 18:32:18.941   \n",
       "138899           326 2019-02-08 01:06:07.802 2019-02-08 01:11:34.413   \n",
       "38634            228 2019-02-23 11:38:53.633 2019-02-23 11:42:42.153   \n",
       "\n",
       "       start_station_id             start_station_name  \\\n",
       "116319             93.0   4th St at Mission Bay Blvd S   \n",
       "80474              99.0           Folsom St at 15th St   \n",
       "24335              23.0  The Embarcadero at Steuart St   \n",
       "138899            239.0  Bancroft Way at Telegraph Ave   \n",
       "38634             166.0    College Ave at Alcatraz Ave   \n",
       "\n",
       "        start_station_latitude  start_station_longitude end_station_id  \\\n",
       "116319               37.770407              -122.391198           24.0   \n",
       "80474                37.767037              -122.415442          139.0   \n",
       "24335                37.791464              -122.391034           93.0   \n",
       "138899               37.868813              -122.258764          256.0   \n",
       "38634                37.851376              -122.252523          249.0   \n",
       "\n",
       "                                end_station_name  end_station_latitude  \\\n",
       "116319                     Spear St at Folsom St             37.789677   \n",
       "80474   Garfield Square (25th St at Harrison St)             37.751017   \n",
       "24335               4th St at Mission Bay Blvd S             37.770407   \n",
       "138899                  Hearst Ave at Euclid Ave             37.875112   \n",
       "38634                  Russell St at College Ave             37.858473   \n",
       "\n",
       "        end_station_longitude bike_id   user_type  member_birth_year  \\\n",
       "116319            -122.390428    4986  Subscriber             1991.0   \n",
       "80474             -122.411901    5400  Subscriber             1991.0   \n",
       "24335             -122.391198    6051    Customer             1981.0   \n",
       "138899            -122.260553    1770  Subscriber             1964.0   \n",
       "38634             -122.253253    4643  Subscriber             1974.0   \n",
       "\n",
       "       member_gender bike_share_for_all_trip  duration_minutes  member_age  \\\n",
       "116319          Male                      No                 9          31   \n",
       "80474           Male                      No                 7          31   \n",
       "24335           Male                      No                12          41   \n",
       "138899          Male                      No                 5          58   \n",
       "38634           Male                      No                 3          48   \n",
       "\n",
       "       weekday  \n",
       "116319     Tue  \n",
       "80474      Mon  \n",
       "24335      Mon  \n",
       "138899     Fri  \n",
       "38634      Sat  "
      ]
     },
     "execution_count": 169,
     "metadata": {},
     "output_type": "execute_result"
    }
   ],
   "source": [
    "df_copy.sample(5)"
   ]
  },
  {
   "cell_type": "code",
   "execution_count": 170,
   "metadata": {},
   "outputs": [
    {
     "data": {
      "image/png": "[encoded data removed]",
      "text/plain": [
       "<Figure size 360x360 with 1 Axes>"
      ]
     },
     "metadata": {
      "needs_background": "light"
     },
     "output_type": "display_data"
    }
   ],
   "source": [
    "colorbar = sb.color_palette()[1]\n",
    "weekday = ['Mon', 'Tue', 'Wed', 'Thu', 'Fri', 'Sat', 'Sun']\n",
    "g = sb.catplot(data = df_copy, x = 'weekday', kind = 'count', legend = True, sharey = False,\n",
    "            color = colorbar, order = weekday)\n",
    "g.set_axis_labels(\"Weekday\", \"Number of Trips\")\n",
    "g.set_titles(\"{col_name}\")\n",
    "plt.yticks(range(0,40000,5000))\n",
    "g.fig.suptitle('Weekly usage of the bike share system per user type', y=1.05);"
   ]
  },
  {
   "cell_type": "code",
   "execution_count": 171,
   "metadata": {},
   "outputs": [],
   "source": [
    "#Thursday had highest number of trips while the weekend had the lowest. Does this mean most riders have a white collar job?"
   ]
  },
  {
   "cell_type": "code",
   "execution_count": 172,
   "metadata": {
    "scrolled": true
   },
   "outputs": [
    {
     "data": {
      "image/png": "[encoded data removed]",
      "text/plain": [
       "<Figure size 576x360 with 1 Axes>"
      ]
     },
     "metadata": {
      "needs_background": "light"
     },
     "output_type": "display_data"
    }
   ],
   "source": [
    "#Lets see which user type takes the most trips\n",
    "\n",
    "plt.figure(figsize=[8,5])\n",
    "plt.bar(x = df_copy.user_type.value_counts().keys(), height = df_copy.user_type.value_counts() )\n",
    "plt.title('Ford Go-Bike User type')\n",
    "plt.xlabel('Type of User')\n",
    "plt.ylabel('Number of Users')\n",
    "plt.yticks(range(0,180000,20000))\n",
    "plt.show()"
   ]
  },
  {
   "cell_type": "code",
   "execution_count": 197,
   "metadata": {},
   "outputs": [
    {
     "data": {
      "image/png": "[encoded data removed]",
      "text/plain": [
       "<Figure size 576x360 with 1 Axes>"
      ]
     },
     "metadata": {},
     "output_type": "display_data"
    }
   ],
   "source": [
    "# Showing user type by it's percentage\n",
    "plt.figure(figsize=(8,5))\n",
    "user_type = df_copy['user_type'].value_counts()\n",
    "plt.pie(user_type, labels = user_type.index, startangle = 90,\n",
    "        counterclock = False, autopct='%1.2f%%');\n",
    "plt.title('Ford Go-Bike User type in percentage', fontsize=20)\n",
    "plt.legend(['Customer','Subcriber'])\n",
    "plt.show()"
   ]
  },
  {
   "cell_type": "code",
   "execution_count": 174,
   "metadata": {},
   "outputs": [],
   "source": [
    "#It is very clear that subscribers take the highest percentage of user type"
   ]
  },
  {
   "cell_type": "code",
   "execution_count": 175,
   "metadata": {},
   "outputs": [
    {
     "data": {
      "image/png": "[encoded data removed]",
      "text/plain": [
       "<Figure size 576x360 with 1 Axes>"
      ]
     },
     "metadata": {
      "needs_background": "light"
     },
     "output_type": "display_data"
    }
   ],
   "source": [
    "plt.figure(figsize=[8,5])\n",
    "plt.bar(x = df_copy.member_gender.value_counts().keys(), height = df_copy.member_gender.value_counts() )\n",
    "plt.title('Ford Go-Bike User Gender')\n",
    "plt.xlabel('Gender')\n",
    "plt.ylabel('Number of Users')\n",
    "plt.yticks(range(0,140000,20000))\n",
    "plt.show()"
   ]
  },
  {
   "cell_type": "code",
   "execution_count": 176,
   "metadata": {},
   "outputs": [],
   "source": [
    "#Most users of the bike sharing app are male"
   ]
  },
  {
   "cell_type": "code",
   "execution_count": 177,
   "metadata": {},
   "outputs": [
    {
     "data": {
      "image/png": "[encoded data removed]",
      "text/plain": [
       "<Figure size 720x288 with 2 Axes>"
      ]
     },
     "metadata": {
      "needs_background": "light"
     },
     "output_type": "display_data"
    }
   ],
   "source": [
    "# plotting the distribution of location\n",
    "plt.figure(figsize=[10, 4])\n",
    "\n",
    "plt.subplot(1, 2, 1)\n",
    "plt.scatter(data=df_copy, x='start_station_latitude', y='start_station_longitude')\n",
    "plt.xlabel('Latitude')\n",
    "plt.ylabel('Longitude')\n",
    "plt.title('Distribution of location of Start Stations')\n",
    "\n",
    "plt.subplot(1, 2, 2)\n",
    "plt.scatter(data=df_copy, x='end_station_latitude', y='end_station_longitude')\n",
    "plt.xlabel('Latitude')\n",
    "plt.ylabel('Longitude')\n",
    "plt.title('Distribution of location of End Stations');"
   ]
  },
  {
   "cell_type": "code",
   "execution_count": 178,
   "metadata": {},
   "outputs": [],
   "source": [
    "#the stations are very close to each other. "
   ]
  },
  {
   "cell_type": "markdown",
   "metadata": {},
   "source": [
    "### Discuss the distribution(s) of your variable(s) of interest. Were there any unusual points? Did you need to perform any transformations?\n",
    "\n",
    "> The most common trip duration was less 20 minutues. Upon digging deeper, i realised it was highest between 0-10 minutes. This means that the stations are in close proximity.\n",
    "\n",
    "### Of the features you investigated, were there any unusual distributions? Did you perform any operations on the data to tidy, adjust, or change the form of the data? If so, why did you do this?\n",
    "\n",
    "> Age was converted by substracting the year from 2022 so this gives a distibution for age. I also coverted seconds to minutes."
   ]
  },
  {
   "cell_type": "markdown",
   "metadata": {},
   "source": [
    "## Bivariate Exploration"
   ]
  },
  {
   "cell_type": "code",
   "execution_count": 183,
   "metadata": {},
   "outputs": [
    {
     "data": {
      "image/png": "[encoded data removed]",
      "text/plain": [
       "<Figure size 576x360 with 1 Axes>"
      ]
     },
     "metadata": {
      "needs_background": "light"
     },
     "output_type": "display_data"
    }
   ],
   "source": [
    "#let us see if age plays a role in the duration of trips\n",
    "\n",
    "plt.figure(figsize=[8,5])\n",
    "plt.scatter(data = df_copy, x = 'member_age', y = 'duration_minutes', alpha = 0.25)\n",
    "plt.xticks(range(0, 100, 10))\n",
    "plt.yticks(range(0, 1600, 200))           \n",
    "plt.xlabel('Age (years)')\n",
    "plt.ylabel('Duaration in minutes')\n",
    "plt.title('Age and Trip duration')\n",
    "plt.show()"
   ]
  },
  {
   "cell_type": "code",
   "execution_count": 184,
   "metadata": {},
   "outputs": [],
   "source": [
    "#We can see that younger users take longer trips"
   ]
  },
  {
   "cell_type": "code",
   "execution_count": 185,
   "metadata": {},
   "outputs": [
    {
     "data": {
      "image/png": "[encoded data removed]",
      "text/plain": [
       "<Figure size 576x360 with 1 Axes>"
      ]
     },
     "metadata": {
      "needs_background": "light"
     },
     "output_type": "display_data"
    }
   ],
   "source": [
    "#let us see if gender plays a role in the duration of trips\n",
    "\n",
    "plt.figure(figsize = [8, 5])\n",
    "sb.boxplot(data = df_copy, x = 'member_gender', y = 'duration_minutes')\n",
    "plt.xlabel('Gender')\n",
    "plt.ylabel('Duration in minutes)')\n",
    "plt.yticks(range(0, 1600, 200)) \n",
    "plt.title('Gender and Trip duration')\n",
    "plt.show()"
   ]
  },
  {
   "cell_type": "code",
   "execution_count": 186,
   "metadata": {},
   "outputs": [
    {
     "data": {
      "image/png": "[encoded data removed]",
      "text/plain": [
       "<Figure size 576x360 with 1 Axes>"
      ]
     },
     "metadata": {
      "needs_background": "light"
     },
     "output_type": "display_data"
    }
   ],
   "source": [
    "#It's too far spread out. Lets limit it to 60 minutes\n",
    "\n",
    "plt.figure(figsize = [8, 5])\n",
    "base_color = sb.color_palette()[1]\n",
    "sb.boxplot(data = df_copy, x = 'member_gender', y = 'duration_minutes', color = base_color)\n",
    "plt.ylim([-5, 40])\n",
    "plt.xlabel('Gender')\n",
    "plt.ylabel('Duration in minutes') \n",
    "plt.title('Gender and Trip duration')\n",
    "plt.show()"
   ]
  },
  {
   "cell_type": "code",
   "execution_count": 187,
   "metadata": {},
   "outputs": [],
   "source": [
    "#Male members are higher than female but we can see that higher percentage of female go on longer trips then males"
   ]
  },
  {
   "cell_type": "code",
   "execution_count": 188,
   "metadata": {
    "scrolled": true
   },
   "outputs": [
    {
     "data": {
      "image/png": "[encoded data removed]",
      "text/plain": [
       "<Figure size 576x360 with 1 Axes>"
      ]
     },
     "metadata": {
      "needs_background": "light"
     },
     "output_type": "display_data"
    }
   ],
   "source": [
    "#Lets see if there's a relationship between trip duration and user type\n",
    "\n",
    "plt.figure(figsize = [8, 5])\n",
    "base_color = sb.color_palette()[1]\n",
    "sb.boxplot(data = df_copy, x = 'user_type', y = 'duration_minutes', color = base_color)\n",
    "plt.ylim([-5, 40])\n",
    "plt.xlabel('User Type')\n",
    "plt.ylabel('Duration in minutes')\n",
    "plt.title('User Type and Trip duration')\n",
    "plt.show()"
   ]
  },
  {
   "cell_type": "code",
   "execution_count": 189,
   "metadata": {},
   "outputs": [],
   "source": [
    "#Customers take longer trips"
   ]
  },
  {
   "cell_type": "code",
   "execution_count": 190,
   "metadata": {},
   "outputs": [
    {
     "data": {
      "image/png": "[encoded data removed]",
      "text/plain": [
       "<Figure size 720x360 with 2 Axes>"
      ]
     },
     "metadata": {
      "needs_background": "light"
     },
     "output_type": "display_data"
    }
   ],
   "source": [
    "\n",
    "#Lets see which weekday customers and subscribers use this bike sharing\n",
    "colorbar = sb.color_palette()[1]\n",
    "weekday = ['Mon', 'Tue', 'Wed', 'Thu', 'Fri', 'Sat', 'Sun']\n",
    "g = sb.catplot(data=df_copy, x='weekday', col=\"user_type\", kind='count', sharey = False, color = colorbar, order = weekday)\n",
    "g.set_axis_labels(\"Weekday\", \"Number of Trips\")\n",
    "g.set_titles(\"{col_name}\")\n",
    "g.fig.suptitle('Weekly usage of the bike share system per user type', y=1.03,);"
   ]
  },
  {
   "cell_type": "code",
   "execution_count": 191,
   "metadata": {},
   "outputs": [],
   "source": [
    "#Customers use the biike service actively on weekends while subscribers use it least during the weekends. \n",
    "#This shows both classes have very different lifestyles"
   ]
  },
  {
   "cell_type": "markdown",
   "metadata": {},
   "source": [
    "### Talk about some of the relationships you observed in this part of the investigation. How did the feature(s) of interest vary with other features in the dataset?\n",
    "\n",
    "> As expected, younger rider take longer trips. Females also take longer trips than males\n",
    "\n",
    "### Did you observe any interesting relationships between the other features (not the main feature(s) of interest)?\n",
    "\n",
    "> Yes, subscribers and customers have a very different lifestyle. Subscibers amost;y are 9-5 workers. They most likely se the bike for work related activities. "
   ]
  },
  {
   "cell_type": "markdown",
   "metadata": {},
   "source": [
    "## Multivariate Exploration"
   ]
  },
  {
   "cell_type": "code",
   "execution_count": 192,
   "metadata": {},
   "outputs": [
    {
     "data": {
      "image/png": "[encoded data removed]",
      "text/plain": [
       "<Figure size 432x288 with 1 Axes>"
      ]
     },
     "metadata": {
      "needs_background": "light"
     },
     "output_type": "display_data"
    }
   ],
   "source": [
    "# Lets see how long the ride lasts per user type per age\n",
    "gender_markers = [['Male', 's'],['Female', 'o'],['Other', 'v']]\n",
    "\n",
    "for gender, marker in gender_markers:\n",
    "    df_gender = df_copy[df_copy['member_gender'] == gender]\n",
    "    plt.scatter(df_gender['member_age'], df_gender['duration_minutes'], marker = marker, alpha=0.25)\n",
    "plt.legend(['Male','Female','Other'])\n",
    "plt.xticks(range(0, 100, 10))\n",
    "plt.yticks(range(0, 1600, 200)) \n",
    "plt.xlabel('Age (year)')\n",
    "plt.ylabel('Duration in minutes')\n",
    "plt.title('Bike Duration per gender per Age')\n",
    "plt.show()"
   ]
  },
  {
   "cell_type": "code",
   "execution_count": 193,
   "metadata": {},
   "outputs": [],
   "source": [
    "#This is too crowded, let us separate this"
   ]
  },
  {
   "cell_type": "code",
   "execution_count": 194,
   "metadata": {},
   "outputs": [
    {
     "data": {
      "image/png": "[encoded data removed]",
      "text/plain": [
       "<Figure size 720x720 with 3 Axes>"
      ]
     },
     "metadata": {
      "needs_background": "light"
     },
     "output_type": "display_data"
    }
   ],
   "source": [
    "genders = sb.FacetGrid(data = df_copy, col = 'member_gender', col_wrap = 2, height = 5,\n",
    "                 xlim = [10, 80], ylim = [-50, 1500])\n",
    "genders.map(plt.scatter, 'member_age', 'duration_minutes', alpha=0.25)\n",
    "genders.set_xlabels('Age (year)')\n",
    "genders.set_ylabels('Duration in minutes')\n",
    "\n",
    "genders.fig.subplots_adjust(top=0.9)\n",
    "genders.fig.suptitle('Bike Duration per gender per Age')\n",
    "plt.show()"
   ]
  },
  {
   "cell_type": "code",
   "execution_count": 196,
   "metadata": {},
   "outputs": [
    {
     "data": {
      "image/png": "[encoded data removed]",
      "text/plain": [
       "<Figure size 432x288 with 1 Axes>"
      ]
     },
     "metadata": {
      "needs_background": "light"
     },
     "output_type": "display_data"
    }
   ],
   "source": [
    "# Lets see how long the rise lasts for in each week day per user type\n",
    "\n",
    "sb.pointplot(data=df_copy, x='weekday', y='duration_minutes', hue='user_type', errwidth=0, order = weekday)\n",
    "plt.xlabel('Weekday')\n",
    "plt.ylabel('Duration in minutes')\n",
    "plt.title('Bike Duration per day per User Type')\n",
    "plt.yticks(range(0, 40, 5)) \n",
    "plt.legend(title='User Type')\n",
    "plt.show()"
   ]
  },
  {
   "cell_type": "code",
   "execution_count": null,
   "metadata": {},
   "outputs": [],
   "source": [
    "#Customers again would most likey use this for leaisure and spend take longer trips."
   ]
  },
  {
   "cell_type": "markdown",
   "metadata": {},
   "source": [
    "### Talk about some of the relationships you observed in this part of the investigation. Were there features that strengthened each other in terms of looking at your feature(s) of interest?\n",
    "\n",
    "> Yes there were features that showed Customers to Subscribers differences.\n",
    "\n",
    "### Were there any interesting or surprising interactions between features?\n",
    "\n",
    "> I was surprised that males were higher than females but on an average, females took longer trips than males."
   ]
  },
  {
   "cell_type": "code",
   "execution_count": 207,
   "metadata": {},
   "outputs": [],
   "source": [
    "#saving the cleane dataset\n",
    "\n",
    "df_copy.to_csv('ford_clean.csv', index=False)"
   ]
  },
  {
   "cell_type": "code",
   "execution_count": null,
   "metadata": {},
   "outputs": [],
   "source": []
  }
 ],
 "metadata": {
  "kernelspec": {
   "display_name": "Python 3 (ipykernel)",
   "language": "python",
   "name": "python3"
  },
  "language_info": {
   "codemirror_mode": {
    "name": "ipython",
    "version": 3
   },
   "file_extension": ".py",
   "mimetype": "text/x-python",
   "name": "python",
   "nbconvert_exporter": "python",
   "pygments_lexer": "ipython3",
   "version": "3.8.12"
  }
 },
 "nbformat": 4,
 "nbformat_minor": 2
}
